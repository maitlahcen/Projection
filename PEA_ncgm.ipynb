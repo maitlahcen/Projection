{
 "cells": [
  {
   "cell_type": "markdown",
   "metadata": {},
   "source": [
    "# Projection Methods - Parametrized Expectations Algorithm"
   ]
  },
  {
   "cell_type": "markdown",
   "metadata": {},
   "source": [
    "*Author: Mohammed Aït Lahcen, University of Basel*"
   ]
  },
  {
   "cell_type": "markdown",
   "metadata": {},
   "source": [
    "In this notebook, I use the Parametrized Expectations Algorithm proposed by [den Haan & Marcet (1990)](http://www.tandfonline.com/doi/abs/10.1080/07350015.1990.10509770) to solve a slightly modified version of the discrete time neo-classical growth model. This notebook is heavily inspired by an assignment from the LSE macro tools summer school taught by [Professor Wouter den Haan](http://www.wouterdenhaan.com/summercourse_essentials.html). The original code from the assignment was written in Matlab. This is a Python version of the code with some improvements."
   ]
  },
  {
   "cell_type": "code",
   "execution_count": 1,
   "metadata": {
    "collapsed": true
   },
   "outputs": [],
   "source": [
    "import numpy as np\n",
    "from scipy import optimize as opt\n",
    "from numba import jit\n",
    "\n",
    "# Graphics imports\n",
    "import matplotlib.pyplot as plt\n",
    "import seaborn as sns  # Better quality figures\n",
    "%matplotlib notebook\n",
    "# Displays figures inside the notebook\n",
    "from matplotlib import rcParams\n",
    "rcParams['figure.figsize'] = (12, 8)  # Sets the size of the figures in the notebook\n",
    "\n",
    "from matplotlib import cm\n",
    "from mpl_toolkits.mplot3d.axes3d import Axes3D"
   ]
  },
  {
   "cell_type": "markdown",
   "metadata": {},
   "source": [
    "## Model"
   ]
  },
  {
   "cell_type": "markdown",
   "metadata": {},
   "source": [
    "In this notebook, we look at a modified version of the neoclassical growth model where agents can invest in zero coupon bonds with maturity $j$ which can be bought for $q_{j,t}$ and pay off 1 unit in period $t + j$.\n",
    "\n",
    "The first order conditions are as follows:\n",
    "$$\n",
    "\\begin{align}\n",
    "c_t^{-\\nu} &= \\mathbb{E}_t \\left[ \\beta c_{t+1}^{-\\nu}(\\alpha z_{t+1} k_{t+1}^{\\alpha-1} +1 - \\delta)\\right] \n",
    "\\\\\n",
    "q_{j,t} c_t^{-\\nu} &= \\mathbb{E}_t \\left[ \\beta q_{j-1,t+1} c_{t+1}^{-\\nu} \\right]\n",
    "\\\\\n",
    "c_t + k_t + \\sum_{j=1}^J q_{j,t}b_{j,t} &= z_t k_{t-1}^\\alpha + (1 - \\delta) k_{t-1} + \\sum_{j=0}^{J-1} q_{j,t}b_{j,t-1}\n",
    "\\\\\n",
    "\\ln(z_{t}) &= \\rho \\ln(z_{t-1}) + \\varepsilon_{t}, \\quad \\varepsilon_t \\sim \\mathcal{N}(0,\\sigma^2)\n",
    "\\end{align}\n",
    "$$"
   ]
  },
  {
   "cell_type": "markdown",
   "metadata": {},
   "source": [
    "## Parameters"
   ]
  },
  {
   "cell_type": "code",
   "execution_count": 2,
   "metadata": {
    "collapsed": true
   },
   "outputs": [],
   "source": [
    "alpha   = 0.33         # Capital share \n",
    "beta = 0.99         # Time discount factor\n",
    "nu      = 3.0          # Risk aversion parameter\n",
    "delta   = 0.025        # Depreciation rate\n",
    "\n",
    "sigma   = 0.02         # Standard Deviation for log noise in technology shock\n",
    "rho     = 0.95         # Persistence of log technology shock\n",
    "\n",
    "T       = 2000         # Total length of simulation\n",
    "T1      = 501          # First observation used"
   ]
  },
  {
   "cell_type": "code",
   "execution_count": 3,
   "metadata": {
    "collapsed": true
   },
   "outputs": [],
   "source": [
    "n_herm  = 5            # number of Hermite nodes for numerical integration\n",
    "                  \n",
    "porder_k =  1           # Order of Polynomial for k\n",
    "porder_z =  1           # Order of Polynomial for z\n",
    "\n",
    "\n",
    "maxiter = 2000         # Maximum Iterations to find coefficients of polynomial\n",
    "psitol  = 1e-6         # Convergence criterion\n",
    "lrate   = 0.7          # parameter to control updating of polynomial coefficients\n",
    "                        # lrate = 1 means complete updating \n",
    "                        # lrate < 1 means partial updating"
   ]
  },
  {
   "cell_type": "markdown",
   "metadata": {},
   "source": [
    "## Stochastic PEA"
   ]
  },
  {
   "cell_type": "markdown",
   "metadata": {},
   "source": [
    "As is suggested by its name, PEA is a projection method that focuses on parametrizing the expectation part of the stochastic Euler equation. As opposed to the simple projection method where we approximate the policy functions, the idea behind PEA is to approximate the whole expectation term using a (polynomial) function of the state variables.\n",
    "\n",
    "Explain simulation PEA!!!\n",
    "\n",
    "In this model, bonds are in zero net supply which means that asset prices do not affect the real side of the economy. Hence, we can solve for the consumption policy functions and use it to get the capital level from the budget constraint.\n",
    "\n",
    "We use the following approximation to the conditional expectation:\n",
    "$$\n",
    "\\exp \\left(\\psi_0^0 + \\psi_z^0 \\ln z_t + \\psi_k^0 \\ln k_{t-1} + \\psi_{zk}^0 \\ln z_t \\ln k_{t-1} \\right)\n",
    "$$\n",
    "\n",
    "The idea is to start with a guess for the expectation term using initial values for the coefficients of the polynomial and then keep iterat"
   ]
  },
  {
   "cell_type": "markdown",
   "metadata": {},
   "source": [
    "#### Computing the steady state values"
   ]
  },
  {
   "cell_type": "markdown",
   "metadata": {},
   "source": [
    "We compute the steady state values to be used to initialize the calculations:"
   ]
  },
  {
   "cell_type": "code",
   "execution_count": 4,
   "metadata": {
    "collapsed": false
   },
   "outputs": [],
   "source": [
    "k_ss = ((1-beta+delta*beta) / (alpha*beta))**(1/(alpha-1))\n",
    "c_ss = k_ss**alpha - delta*k_ss"
   ]
  },
  {
   "cell_type": "markdown",
   "metadata": {},
   "source": [
    "#### Simulating the exogenous process"
   ]
  },
  {
   "cell_type": "code",
   "execution_count": 5,
   "metadata": {
    "collapsed": false
   },
   "outputs": [],
   "source": [
    "np.random.seed(20110629)  # Set the random number generator seed\n",
    "\n",
    "epsi = np.random.randn(T,1)*sigma\n",
    "\n",
    "lnz = np.zeros(T)\n",
    "\n",
    "lnz[0] = 0\n",
    "\n",
    "for t in range(1,T):\n",
    "    lnz[t]= rho*lnz[t-1] + epsi[t]\n",
    "    \n",
    "z = np.exp(lnz)"
   ]
  },
  {
   "cell_type": "markdown",
   "metadata": {},
   "source": [
    "#### Building the approximating Hermite polynomial"
   ]
  },
  {
   "cell_type": "markdown",
   "metadata": {},
   "source": [
    "Below, I build a function that takes the order of the polynomial in the state variables as well as the vectors of state variables to generate the Hermite polynomial terms $H_j(x)$:\n",
    "$$\n",
    "P_n(x) = \\sum_{j=0}^n a_j H_j(x)\n",
    "$$\n",
    "with\n",
    "$$\n",
    "\\begin{align}\n",
    "H_0(x) &= 1\n",
    "\\\\\n",
    "H_1(x) &= x\n",
    "\\\\\n",
    "H_{j+1}(x) &= x H_{j}(x) - j H_{j-1}(x) \\quad \\textit{for} \\,\\, j > 1\n",
    "\\end{align}\n",
    "$$\n",
    "\n",
    "\n",
    "To build a polynomial in the two variables $k$ and $z$, we multiply the Hermite polynomial of each using tensor product (outer product)."
   ]
  },
  {
   "cell_type": "code",
   "execution_count": 148,
   "metadata": {
    "collapsed": false
   },
   "outputs": [],
   "source": [
    "def hermterms(porder,x):\n",
    "    \n",
    "    hx = np.ones((x.shape[0],porder+1))  # Initialize vector with ones so that H_0(x) = 1\n",
    "    # the property shape[n-1] returns the size along dimension n\n",
    "    \n",
    "    hx[:,1] = x  # second term H_1(x) = x\n",
    "    \n",
    "    if porder >= 2:\n",
    "        for j in range(2,porder+1):  # Last element in range is not used so do +1\n",
    "            hx[:,j] = x * hx[:,j-1] - j * hx[:,j-2]   # third and higher terms H_j(x)\n",
    "    \n",
    "    return hx\n",
    "\n",
    "def hermpoly(porder,x):\n",
    "    # Takes a couple (k_j,z_j) and returns the corresponding Hermite polynomial  \n",
    "    \n",
    "    # Extracting order of polynomial in k and z\n",
    "    porder_k = porder[0]\n",
    "    porder_z = porder[1]\n",
    "    \n",
    "    # Generate the Hermite polynomial terms in k and z respectively\n",
    "    hk = hermterms(porder_k,x[:,0])\n",
    "    hz = hermterms(porder_z,x[:,1])\n",
    "    \n",
    "    # Build the Hermite polynomial matrix\n",
    "    # Number of terms in polynomial = (order in k + 1) * (order in z + 1)\n",
    "    polymat = np.zeros((x.shape[0],(porder_k + 1) * (porder_z + 1) ))\n",
    "    \n",
    "    # Do a tensor product (outer product) of the two vectors\n",
    "    for jk in range(0,porder_k+1):\n",
    "        for jz in range(0,porder_z+1):\n",
    "            polymat[:,jk*(porder_z+1)+jz] = hk[:,jk] * hz[:,jz]\n",
    "    \n",
    "    # Alternative way using tensor product formula and hstacking twice\n",
    "    # polymat = np.hstack(np.hstack(np.tensordot(hk,hz,axes=0)))\n",
    "    \n",
    "    return polymat"
   ]
  },
  {
   "cell_type": "markdown",
   "metadata": {},
   "source": [
    "#### Calculating the RSS"
   ]
  },
  {
   "cell_type": "markdown",
   "metadata": {},
   "source": [
    "The following function takes the coefficients of the regression, $X$ and $Y$ and returns the residual sum of squares (prediction error):"
   ]
  },
  {
   "cell_type": "code",
   "execution_count": 275,
   "metadata": {
    "collapsed": true
   },
   "outputs": [],
   "source": [
    "def rss(coef,Y,X):\n",
    "    \n",
    "    rss = np.dot((Y-np.exp(np.dot(X,coef))).T,(Y-np.exp(np.dot(X,coef))))\n",
    "    \n",
    "    return rss    "
   ]
  },
  {
   "cell_type": "markdown",
   "metadata": {},
   "source": [
    "#### Main loop"
   ]
  },
  {
   "cell_type": "code",
   "execution_count": null,
   "metadata": {
    "collapsed": false
   },
   "outputs": [],
   "source": [
    "# Initialize vectors\n",
    "\n",
    "c = np.zeros(T)\n",
    "k = np.zeros(T)\n",
    "lnk = np.zeros(T)\n",
    "\n",
    "# Initialize coefficients\n",
    "\n",
    "# psi = np.array([0,0,0,0])\n",
    "psi = np.array([0.933756226933222,0.284693110705828,-0.530763511673379,-0.178833679612226])\n",
    "\n",
    "for psiter in range(maxiter):\n",
    "    \n",
    "    k[0] = k_ss\n",
    "    lnk[0]   = np.log(k[0])\n",
    "    \n",
    "    # Generate c and k using the polynomial and the random series of z\n",
    "    for t in range(1,T):  \n",
    "        lnk[t-1] = np.log(k[t-1])\n",
    "        x = np.array([[lnk[t-1],lnz[t-1]]])  # transform it into an array to pass to hermpoly\n",
    "        polynomial = hermpoly([porder_k, porder_z],x)\n",
    "        c[t]     = np.exp(-np.dot(polynomial,psi)/nu) # Use dot product to get scalar\n",
    "        k[t]     = z[t]*k[t-1]**alpha + (1-delta)*k[t-1]-c[t]\n",
    "\n",
    "    # Compute the RHS of the Euler equation (part inside the expectation)\n",
    "    # using the whole vector of c, k and z\n",
    "    Y = beta*c[T1:T]**(-nu)*(alpha*z[T1:T]*(k[T1-1:T-1]**(alpha-1))+1-delta)\n",
    "    \n",
    "    x = np.array([lnk[T1-2:T-2],lnz[T1-1:T-1]]).T\n",
    "    X = hermpoly([porder_k, porder_z],x)\n",
    "    \n",
    "    results = opt.minimize(rss,psi,args=(Y,X),method='Nelder-Mead',tol=0.0000001,options={'maxiter':1000000})\n",
    "    psi_out = results.x\n",
    "        \n",
    "    delpsi  = np.linalg.norm(psi-psi_out)\n",
    "#     print('After {:3d} iterations the Difference in psi was {:6.4f}'.format(psiter,delpsi))\n",
    "#     print('     new estimate for first four elements of psi',psi)\n",
    "\n",
    "    if delpsi < psitol:\n",
    "        break\n",
    "    else:\n",
    "        psi = lrate * psi_out +(1-lrate)*psi"
   ]
  },
  {
   "cell_type": "code",
   "execution_count": 9,
   "metadata": {
    "collapsed": true
   },
   "outputs": [],
   "source": [
    "%qtconsole"
   ]
  },
  {
   "cell_type": "markdown",
   "metadata": {},
   "source": [
    "## Quadrature simulation PEA"
   ]
  }
 ],
 "metadata": {
  "anaconda-cloud": {},
  "kernelspec": {
   "display_name": "Python [conda root]",
   "language": "python",
   "name": "conda-root-py"
  },
  "language_info": {
   "codemirror_mode": {
    "name": "ipython",
    "version": 3
   },
   "file_extension": ".py",
   "mimetype": "text/x-python",
   "name": "python",
   "nbconvert_exporter": "python",
   "pygments_lexer": "ipython3",
   "version": "3.5.2"
  }
 },
 "nbformat": 4,
 "nbformat_minor": 1
}
